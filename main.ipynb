{
 "cells": [
  {
   "cell_type": "code",
   "execution_count": 29,
   "id": "05be9ec6-f37b-4d5e-9591-560778110a35",
   "metadata": {
    "tags": []
   },
   "outputs": [],
   "source": [
    "import json\n",
    "file=open('info.json','r')\n",
    "info=json.load(file)\n",
    "from linebot import LineBotApi\n",
    "from linebot.models import TextSendMessage\n",
    "CHANNEL_ACCESS_TOKEN=info['CHANNEL_ACCESS_TOKEN']\n",
    "line_bot_api=LineBotApi(CHANNEL_ACCESS_TOKEN)\n",
    "import time"
   ]
  },
  {
   "cell_type": "code",
   "execution_count": 31,
   "id": "4c2f6edd-b855-4cec-a3d1-73d8a7879508",
   "metadata": {},
   "outputs": [],
   "source": [
    "\n",
    "def main():\n",
    "        USER_ID = info['USER_ID']\n",
    "        messages= TextSendMessage(text=\"おはよう〜 \\n 朝だよ!!起きて❤️\")\n",
    "        line_bot_api.push_message(USER_ID, messages=messages)\n",
    "    \n",
    "def main2():\n",
    "        USER_ID = info['USER_ID']\n",
    "        messages= TextSendMessage(text=\"おきてよ〜☹️\")\n",
    "        line_bot_api.push_message(USER_ID, messages=messages)\n",
    "def main3():\n",
    "        USER_ID = info['USER_ID']\n",
    "        messages= TextSendMessage(text=\"も〜！！\")\n",
    "        line_bot_api.push_message(USER_ID, messages=messages)\n",
    "        \n",
    "def main4():\n",
    "        USER_ID = info['USER_ID']\n",
    "        messages= TextSendMessage(text=\"おこったかんな〜\")\n",
    "        line_bot_api.push_message(USER_ID, messages=messages)\n",
    "        \n",
    "def main5():\n",
    "        USER_ID = info['USER_ID']\n",
    "        messages= TextSendMessage(text=\"ゆるさないかんな〜\")\n",
    "        line_bot_api.push_message(USER_ID, messages=messages)\n",
    "def main6():\n",
    "        USER_ID = info['USER_ID']\n",
    "        messages= TextSendMessage(text=\"おまえがだ〜んな❤️\")\n",
    "        line_bot_api.push_message(USER_ID, messages=messages)\n",
    "        \n",
    "if __name__ == \"__main__\":\n",
    "        main()\n",
    "        time.sleep(2)\n",
    "        main2()\n",
    "        time.sleep(2)\n",
    "        main3()\n",
    "        time.sleep(2)\n",
    "        main4()\n",
    "        time.sleep(2)\n",
    "        main5()\n",
    "        time.sleep(2)\n",
    "        main6()    "
   ]
  },
  {
   "cell_type": "code",
   "execution_count": null,
   "id": "d21a7a16-6517-4bc3-bd91-3df59c6d4272",
   "metadata": {},
   "outputs": [],
   "source": []
  },
  {
   "cell_type": "code",
   "execution_count": null,
   "id": "d0d35c9f-e659-4406-8a34-9dc01e32366e",
   "metadata": {},
   "outputs": [],
   "source": []
  }
 ],
 "metadata": {
  "kernelspec": {
   "display_name": "Python 3 (ipykernel)",
   "language": "python",
   "name": "python3"
  },
  "language_info": {
   "codemirror_mode": {
    "name": "ipython",
    "version": 3
   },
   "file_extension": ".py",
   "mimetype": "text/x-python",
   "name": "python",
   "nbconvert_exporter": "python",
   "pygments_lexer": "ipython3",
   "version": "3.9.7"
  }
 },
 "nbformat": 4,
 "nbformat_minor": 5
}
